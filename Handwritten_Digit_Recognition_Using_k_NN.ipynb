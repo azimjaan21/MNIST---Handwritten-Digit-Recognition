{
  "nbformat": 4,
  "nbformat_minor": 0,
  "metadata": {
    "colab": {
      "provenance": [],
      "authorship_tag": "ABX9TyNuvrsrPaojctvjKKRU6DUj",
      "include_colab_link": true
    },
    "kernelspec": {
      "name": "python3",
      "display_name": "Python 3"
    },
    "language_info": {
      "name": "python"
    }
  },
  "cells": [
    {
      "cell_type": "markdown",
      "metadata": {
        "id": "view-in-github",
        "colab_type": "text"
      },
      "source": [
        "<a href=\"https://colab.research.google.com/github/azimjaan21/MNIST-Handwritten-Digit-Recognition/blob/main/Handwritten_Digit_Recognition_Using_k_NN.ipynb\" target=\"_parent\"><img src=\"https://colab.research.google.com/assets/colab-badge.svg\" alt=\"Open In Colab\"/></a>"
      ]
    },
    {
      "cell_type": "markdown",
      "source": [
        "#📥 Dataset Acquisition (MNIST)"
      ],
      "metadata": {
        "id": "guJgqMbtfYRK"
      }
    },
    {
      "cell_type": "code",
      "source": [
        "from sklearn.datasets import fetch_openml\n",
        "\n",
        "#Load the Dataset\n",
        "mnist = fetch_openml('mnist_784', version=1)\n",
        "mnist.keys()\n",
        "\n",
        "X, y = mnist['data'], mnist['target']"
      ],
      "metadata": {
        "colab": {
          "base_uri": "https://localhost:8080/"
        },
        "id": "nsumqBnkf1rf",
        "outputId": "175abaa8-d6a4-4b06-f0d3-a109bde49cfc"
      },
      "execution_count": 4,
      "outputs": [
        {
          "output_type": "stream",
          "name": "stderr",
          "text": [
            "/usr/local/lib/python3.10/dist-packages/sklearn/datasets/_openml.py:1022: FutureWarning: The default value of `parser` will change from `'liac-arff'` to `'auto'` in 1.4. You can set `parser='auto'` to silence this warning. Therefore, an `ImportError` will be raised from 1.4 if the dataset is dense and pandas is not installed. Note that the pandas parser may return different data types. See the Notes Section in fetch_openml's API doc for details.\n",
            "  warn(\n"
          ]
        }
      ]
    },
    {
      "cell_type": "markdown",
      "source": [
        " There are **70,000 images**, and each image has **784 features**."
      ],
      "metadata": {
        "id": "SrztxzISmM4f"
      }
    },
    {
      "cell_type": "markdown",
      "source": [
        "#🔍 Data Exploration\n"
      ],
      "metadata": {
        "id": "arZRtWwAff-B"
      }
    },
    {
      "cell_type": "code",
      "source": [
        "#Check the shape of the Data\n",
        "print(X.shape)\n",
        "print(y.shape)\n",
        "\n",
        "#Check unique labels\n",
        "print(set(y))"
      ],
      "metadata": {
        "colab": {
          "base_uri": "https://localhost:8080/"
        },
        "id": "x95SUMJvf2fQ",
        "outputId": "cfb69873-e4e5-42a8-cdcb-118125da86d4"
      },
      "execution_count": 5,
      "outputs": [
        {
          "output_type": "stream",
          "name": "stdout",
          "text": [
            "(70000, 784)\n",
            "(70000,)\n",
            "{'5', '4', '0', '9', '6', '7', '1', '2', '3', '8'}\n"
          ]
        }
      ]
    },
    {
      "cell_type": "markdown",
      "source": [
        "#🖼 Visualize Some Digits\n"
      ],
      "metadata": {
        "id": "Rvl8MgmgfiYA"
      }
    },
    {
      "cell_type": "code",
      "source": [
        "import matplotlib.pyplot as plt\n",
        "import matplotlib as mpl\n",
        "import random\n",
        "\n",
        "#Function to plot a digit\n",
        "\n",
        "some_digit = X.iloc[random.randint(0,9)]\n",
        "some_digit_image = some_digit.values.reshape(28, 28)\n",
        "\n",
        "plt.imshow(some_digit_image, cmap=mpl.cm.binary, interpolation='nearest')\n",
        "plt.axis('off')\n",
        "plt.show()"
      ],
      "metadata": {
        "colab": {
          "base_uri": "https://localhost:8080/",
          "height": 406
        },
        "id": "KGAkTeSVp07J",
        "outputId": "8006098b-2ac0-450e-9d14-8ac86af4f99b"
      },
      "execution_count": 6,
      "outputs": [
        {
          "output_type": "display_data",
          "data": {
            "text/plain": [
              "<Figure size 640x480 with 1 Axes>"
            ],
            "image/png": "[encoded data removed]"
          },
          "metadata": {}
        }
      ]
    },
    {
      "cell_type": "code",
      "source": [
        "print(\"Random Digit:\\n\", X.iloc[random.randint(0,9)].values)"
      ],
      "metadata": {
        "colab": {
          "base_uri": "https://localhost:8080/"
        },
        "id": "BL6GaoOlqTOv",
        "outputId": "ecd5d7fe-0b99-451e-c6df-9e7b2c2d2d16"
      },
      "execution_count": 7,
      "outputs": [
        {
          "output_type": "stream",
          "name": "stdout",
          "text": [
            "Random Digit:\n",
            " [  0.   0.   0.   0.   0.   0.   0.   0.   0.   0.   0.   0.   0.   0.\n",
            "   0.   0.   0.   0.   0.   0.   0.   0.   0.   0.   0.   0.   0.   0.\n",
            "   0.   0.   0.   0.   0.   0.   0.   0.   0.   0.   0.   0.   0.   0.\n",
            "   0.   0.   0.   0.   0.   0.   0.   0.   0.   0.   0.   0.   0.   0.\n",
            "   0.   0.   0.   0.   0.   0.   0.   0.   0.   0.   0.   0.   0.   0.\n",
            "   0.   0.   0.   0.   0.   0.   0.   0.   0.   0.   0.   0.   0.   0.\n",
            "   0.   0.   0.   0.   0.   0.   0.   0.   0.   0.   0.   0.   0.   0.\n",
            "   0.   0.   0.   0.   0.   0.   0.   0.   0.   0.   0.   0.   0.   0.\n",
            "   0.   0.   0.   0.   0.   0.   0.   0.   0.   0.   0.   0.   0.   0.\n",
            "   0.   0.   0.   0.   0.   0.   0.   0.   0.   0.   0.   0.   0.   0.\n",
            "   0.   0.   0.   0.   0.   0.   0.   0.   0.   0.   0.   0.   0.   0.\n",
            "   0.   0.   0.   0. 124. 253. 255.  63.   0.   0.   0.   0.   0.   0.\n",
            "   0.   0.   0.   0.   0.   0.   0.   0.   0.   0.   0.   0.   0.   0.\n",
            "   0.   0.   0.  96. 244. 251. 253.  62.   0.   0.   0.   0.   0.   0.\n",
            "   0.   0.   0.   0.   0.   0.   0.   0.   0.   0.   0.   0.   0.   0.\n",
            "   0.   0.   0. 127. 251. 251. 253.  62.   0.   0.   0.   0.   0.   0.\n",
            "   0.   0.   0.   0.   0.   0.   0.   0.   0.   0.   0.   0.   0.   0.\n",
            "   0.   0.  68. 236. 251. 211.  31.   8.   0.   0.   0.   0.   0.   0.\n",
            "   0.   0.   0.   0.   0.   0.   0.   0.   0.   0.   0.   0.   0.   0.\n",
            "   0.  60. 228. 251. 251.  94.   0.   0.   0.   0.   0.   0.   0.   0.\n",
            "   0.   0.   0.   0.   0.   0.   0.   0.   0.   0.   0.   0.   0.   0.\n",
            "   0. 155. 253. 253. 189.   0.   0.   0.   0.   0.   0.   0.   0.   0.\n",
            "   0.   0.   0.   0.   0.   0.   0.   0.   0.   0.   0.   0.   0.   0.\n",
            "  20. 253. 251. 235.  66.   0.   0.   0.   0.   0.   0.   0.   0.   0.\n",
            "   0.   0.   0.   0.   0.   0.   0.   0.   0.   0.   0.   0.   0.  32.\n",
            " 205. 253. 251. 126.   0.   0.   0.   0.   0.   0.   0.   0.   0.   0.\n",
            "   0.   0.   0.   0.   0.   0.   0.   0.   0.   0.   0.   0.   0. 104.\n",
            " 251. 253. 184.  15.   0.   0.   0.   0.   0.   0.   0.   0.   0.   0.\n",
            "   0.   0.   0.   0.   0.   0.   0.   0.   0.   0.   0.   0.  80. 240.\n",
            " 251. 193.  23.   0.   0.   0.   0.   0.   0.   0.   0.   0.   0.   0.\n",
            "   0.   0.   0.   0.   0.   0.   0.   0.   0.   0.   0.  32. 253. 253.\n",
            " 253. 159.   0.   0.   0.   0.   0.   0.   0.   0.   0.   0.   0.   0.\n",
            "   0.   0.   0.   0.   0.   0.   0.   0.   0.   0.   0. 151. 251. 251.\n",
            " 251.  39.   0.   0.   0.   0.   0.   0.   0.   0.   0.   0.   0.   0.\n",
            "   0.   0.   0.   0.   0.   0.   0.   0.   0.   0.  48. 221. 251. 251.\n",
            " 172.   0.   0.   0.   0.   0.   0.   0.   0.   0.   0.   0.   0.   0.\n",
            "   0.   0.   0.   0.   0.   0.   0.   0.   0.   0. 234. 251. 251. 196.\n",
            "  12.   0.   0.   0.   0.   0.   0.   0.   0.   0.   0.   0.   0.   0.\n",
            "   0.   0.   0.   0.   0.   0.   0.   0.   0.   0. 253. 251. 251.  89.\n",
            "   0.   0.   0.   0.   0.   0.   0.   0.   0.   0.   0.   0.   0.   0.\n",
            "   0.   0.   0.   0.   0.   0.   0.   0.   0. 159. 255. 253. 253.  31.\n",
            "   0.   0.   0.   0.   0.   0.   0.   0.   0.   0.   0.   0.   0.   0.\n",
            "   0.   0.   0.   0.   0.   0.   0.   0.  48. 228. 253. 247. 140.   8.\n",
            "   0.   0.   0.   0.   0.   0.   0.   0.   0.   0.   0.   0.   0.   0.\n",
            "   0.   0.   0.   0.   0.   0.   0.   0.  64. 251. 253. 220.   0.   0.\n",
            "   0.   0.   0.   0.   0.   0.   0.   0.   0.   0.   0.   0.   0.   0.\n",
            "   0.   0.   0.   0.   0.   0.   0.   0.  64. 251. 253. 220.   0.   0.\n",
            "   0.   0.   0.   0.   0.   0.   0.   0.   0.   0.   0.   0.   0.   0.\n",
            "   0.   0.   0.   0.   0.   0.   0.   0.  24. 193. 253. 220.   0.   0.\n",
            "   0.   0.   0.   0.   0.   0.   0.   0.   0.   0.   0.   0.   0.   0.\n",
            "   0.   0.   0.   0.   0.   0.   0.   0.   0.   0.   0.   0.   0.   0.\n",
            "   0.   0.   0.   0.   0.   0.   0.   0.   0.   0.   0.   0.   0.   0.\n",
            "   0.   0.   0.   0.   0.   0.   0.   0.   0.   0.   0.   0.   0.   0.\n",
            "   0.   0.   0.   0.   0.   0.   0.   0.   0.   0.   0.   0.   0.   0.\n",
            "   0.   0.   0.   0.   0.   0.   0.   0.   0.   0.   0.   0.   0.   0.\n",
            "   0.   0.   0.   0.   0.   0.   0.   0.   0.   0.   0.   0.   0.   0.]\n"
          ]
        }
      ]
    },
    {
      "cell_type": "markdown",
      "source": [
        "#🛠 Data Preprocessing\n"
      ],
      "metadata": {
        "id": "s-4vmBwLfmyN"
      }
    },
    {
      "cell_type": "code",
      "source": [
        "from sklearn.preprocessing import StandardScaler\n",
        "from sklearn.model_selection import train_test_split\n",
        "\n",
        "scaler = StandardScaler()\n",
        "X_scaled = scaler.fit_transform(X)\n",
        "\n",
        "#Split the Data into Training and Testing Sets\n",
        "X_train, X_test, y_train, y_test = train_test_split(X, y, test_size=0.2, random_state=42)"
      ],
      "metadata": {
        "id": "CDN4IJFghe0T"
      },
      "execution_count": 8,
      "outputs": []
    },
    {
      "cell_type": "markdown",
      "source": [
        "#🤖 Implement k-NN Classifier"
      ],
      "metadata": {
        "id": "kmc3d-kGfpDo"
      }
    },
    {
      "cell_type": "code",
      "source": [
        "from sklearn.neighbors import KNeighborsClassifier\n",
        "from sklearn.metrics import accuracy_score\n",
        "\n",
        "#Train the Model\n",
        "knn_clf = KNeighborsClassifier(n_neighbors=5)\n",
        "\n",
        "knn_clf.fit(X_train, y_train)"
      ],
      "metadata": {
        "colab": {
          "base_uri": "https://localhost:8080/"
        },
        "id": "tmf4mKRPf36d",
        "outputId": "cadc95ff-b8ae-4e80-816c-8314beefa0c7"
      },
      "execution_count": 10,
      "outputs": [
        {
          "output_type": "stream",
          "name": "stdout",
          "text": [
            "Accuracy: 0.9700714285714286\n"
          ]
        }
      ]
    },
    {
      "cell_type": "markdown",
      "source": [
        "#📊 Model Evaluation"
      ],
      "metadata": {
        "id": "E6zjLFqDfrq1"
      }
    },
    {
      "cell_type": "code",
      "source": [
        "from sklearn.metrics import accuracy_score, confusion_matrix, classification_report\n",
        "\n",
        "#Make Predictions\n",
        "y_pred = knn_clf.predict(X_test)\n",
        "\n",
        "#Evaluate the Model\n",
        "\n",
        "#Accuracy Score\n",
        "accuracy = accuracy_score(y_test, y_pred)\n",
        "print(\"Accuracy:\", accuracy)\n",
        "\n",
        "#Confussion Matrix\n",
        "conf_matrix = confusion_matrix(y_test, y_pred)\n",
        "print(\"Confusion Matrix:\\n\", conf_matrix)\n",
        "\n",
        "#Classification Report\n",
        "class_report = classification_report(y_test, y_pred)\n",
        "print(\"Classification Report:\\n\", class_report)"
      ],
      "metadata": {
        "colab": {
          "base_uri": "https://localhost:8080/"
        },
        "id": "3DcIx-C5jYxR",
        "outputId": "aff5f2b3-f538-4bc9-e5d5-558f7d8cd924"
      },
      "execution_count": 11,
      "outputs": [
        {
          "output_type": "stream",
          "name": "stdout",
          "text": [
            "Accuracy: 0.9700714285714286\n",
            "Confusion Matrix:\n",
            " [[1336    0    3    0    0    0    2    1    1    0]\n",
            " [   0 1592    2    0    1    1    0    3    0    1]\n",
            " [   7   17 1323    1    4    1    5   17    3    2]\n",
            " [   0    2   12 1384    1    8    2    7    7   10]\n",
            " [   3    8    1    0 1251    0    2    3    1   26]\n",
            " [   2    5    0   16    2 1232   13    0    1    2]\n",
            " [   5    1    0    0    5    6 1379    0    0    0]\n",
            " [   1   21    4    0    4    0    0 1458    1   14]\n",
            " [   4   13    6   22    2   19    4   10 1267   10]\n",
            " [   6    5    2   11   19    0    0   17    1 1359]]\n",
            "Classification Report:\n",
            "               precision    recall  f1-score   support\n",
            "\n",
            "           0       0.98      0.99      0.99      1343\n",
            "           1       0.96      0.99      0.98      1600\n",
            "           2       0.98      0.96      0.97      1380\n",
            "           3       0.97      0.97      0.97      1433\n",
            "           4       0.97      0.97      0.97      1295\n",
            "           5       0.97      0.97      0.97      1273\n",
            "           6       0.98      0.99      0.98      1396\n",
            "           7       0.96      0.97      0.97      1503\n",
            "           8       0.99      0.93      0.96      1357\n",
            "           9       0.95      0.96      0.96      1420\n",
            "\n",
            "    accuracy                           0.97     14000\n",
            "   macro avg       0.97      0.97      0.97     14000\n",
            "weighted avg       0.97      0.97      0.97     14000\n",
            "\n"
          ]
        }
      ]
    },
    {
      "cell_type": "markdown",
      "source": [
        "#⚙️ Hyperparameter Tuning\n"
      ],
      "metadata": {
        "id": "VkZcQV7BfuR-"
      }
    },
    {
      "cell_type": "code",
      "source": [
        "from sklearn.model_selection import cross_val_score\n",
        "\n",
        "k_values = [1, 3, 5, 9]\n",
        "\n",
        "for k in k_values:\n",
        "    knn_clf = KNeighborsClassifier(n_neighbors=k)\n",
        "    scores = cross_val_score(knn_clf, X_train, y_train, cv=5)\n",
        "\n",
        "    print(f\"k={k}: Mean Accuracy={scores.mean():.2f}, Std={scores.std():.2f}\")"
      ],
      "metadata": {
        "colab": {
          "base_uri": "https://localhost:8080/"
        },
        "id": "n7Sw2OGxf5JC",
        "outputId": "ea9c8f17-9e36-4178-9b41-38056e78700a"
      },
      "execution_count": 12,
      "outputs": [
        {
          "output_type": "stream",
          "name": "stdout",
          "text": [
            "k=1: Mean Accuracy=0.97, Std=0.00\n",
            "k=3: Mean Accuracy=0.97, Std=0.00\n",
            "k=5: Mean Accuracy=0.97, Std=0.00\n",
            "k=9: Mean Accuracy=0.97, Std=0.00\n"
          ]
        }
      ]
    },
    {
      "cell_type": "markdown",
      "source": [
        "#🏆 Results and Insights"
      ],
      "metadata": {
        "id": "QPh_GSGLfwrk"
      }
    },
    {
      "cell_type": "markdown",
      "source": [
        "The MNIST dataset was loaded, preprocessed, and used to train a k-NN classifier.\n",
        "\n",
        " The model achieved an accuracy of **approximately 97%**, indicating good performance in recognizing handwritten digits.\n",
        " Hyperparameter tuning was performed to find the optimal value of k for the k-NN classifier.\n"
      ],
      "metadata": {
        "id": "m91appoWm9qD"
      }
    }
  ]
}